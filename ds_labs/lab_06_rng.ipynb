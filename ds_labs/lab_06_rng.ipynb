{
 "cells": [
  {
   "attachments": {},
   "cell_type": "markdown",
   "id": "c4ae5f78",
   "metadata": {},
   "source": [
    "# Week 9: Random Number Generators\n",
    "\n",
    "<font size=\"6\"> Laboratory 6 </font> <br>\n",
    "<font size=\"3\"> Last updated July 26, 2023 </font>"
   ]
  },
  {
   "attachments": {},
   "cell_type": "markdown",
   "id": "bf85ba0b",
   "metadata": {},
   "source": [
    "## <span style=\"color:orange;\"> 00. Content </span>"
   ]
  },
  {
   "attachments": {},
   "cell_type": "markdown",
   "id": "ee302f24",
   "metadata": {},
   "source": [
    "<font size=\"5\"> Mathematics </font>\n",
    "- N/A\n",
    "     \n",
    "<font size=\"5\"> Programming Skills </font>\n",
    "- Multi-dimensional arrays\n",
    "- Reading and Writing Files\n",
    "    \n",
    "<font size=\"5\"> Embedded Systems </font>\n",
    "- Thonny & MicroPython"
   ]
  },
  {
   "attachments": {},
   "cell_type": "markdown",
   "id": "78fafb76",
   "metadata": {},
   "source": [
    "## <span style=\"color:orange;\"> 0. Required Hardware </span>"
   ]
  },
  {
   "attachments": {},
   "cell_type": "markdown",
   "id": "906a64f3",
   "metadata": {},
   "source": [
    "- Raspberry Pi Pico\n",
    "- MAX30102 Pulse sensor\n",
    "- Camera (Arducam HM01B0)\n",
    "- Ceramic Capacitor\n",
    "- Breadboard\n",
    "- USB connector\n",
    "- 8 Wires"
   ]
  },
  {
   "attachments": {},
   "cell_type": "markdown",
   "id": "01909857",
   "metadata": {},
   "source": [
    "<h3 style=\"background-color:lightblue\"> Write your name and email below: </h3>\n",
    "\n",
    "**Name:** Shiva Sai Vummaji\n",
    "\n",
    "**Email:** svummaji@purdue.edu"
   ]
  },
  {
   "cell_type": "code",
   "execution_count": 1,
   "id": "7c0f3085",
   "metadata": {},
   "outputs": [],
   "source": [
    "import numpy as np\n",
    "import matplotlib.pyplot as plt  "
   ]
  },
  {
   "attachments": {},
   "cell_type": "markdown",
   "id": "4d586acd",
   "metadata": {},
   "source": [
    "## <span style=\"color:orange;\">1. Applications of Random Number Generators </span>\n",
    "Random number generators (RNGs) are the foundation of computer security. The ability to send encrypted messages depends on RNGs. Secure systems are undoubtedly important as the value of our personal data is ever increasing. Whether it's financial information, medical records, or simply messages to a friend, information is protected by generating random numbers unpredictable enough to prevent a hacker from guessing what's next. Random numbers are needed for a variety of tasks like drawing lottery numbers, choosing random samples for scientific studies, and creating video games.\n",
    "\n",
    "RNGs have a surprisingly long history, dating back 5000 years ago with coin-flipping and dice-rolling as the main methods. Many modern approaches are hardware-based as well but much faster than rolling dice repeatedly. For example, in 1996, Silicon Graphics patented a system of random number generation using a wall of lava lamps. The exact state of a lava lamp, let alone multiple, at any time is too complex to model and predict, and so any number based on this chaotic system is secure. Another true RNG is [RANDOM.ORG](https://www.random.org/), which uses multiple radio receivers capturing atmospheric noise to create its random numbers.\n",
    "\n",
    "True RNGs (TRNGs) are characterized by having no predictable patterns in generated sequences and are generally slow to output a large amount of random numbers. TRNGs are relatively hard to implement as a computer program, so pseudorandom number generators (PRNGs) allow computers to simulate randomness through a deterministic process or an easy rule for the program to follow. PRNGs need a starting value called a seed and then based on the seed value pull up a previously created list of random numbers. PRNGs are not always safe enough to use for cryptographic purposes, but having a truly random seed makes them less predictable.\n",
    "\n",
    "In this lab, we will create a random binary sequence of ones and zeros using different hardware methods and test them mathematically to judge the randomness of the results.\n",
    "\n",
    "We only need a random binary sequence to generate random numbers in any range. The reasons behind this are that we can convert between number bases and that computers store numbers in a finite amount of bits. A bit is the smallest unit of information a computer can store. Bits are either 0 or 1. Python uses 32 or 64 bits to store floating-point numbers and integers."
   ]
  },
  {
   "attachments": {},
   "cell_type": "markdown",
   "id": "4b5982ed",
   "metadata": {},
   "source": [
    "## <span style=\"color:orange;\">2. Making an RNG </span>\n",
    "\n",
    "### Method A\n",
    "\n",
    "We will use the Raspberry Pi Pico's internal temperature sensor, as in Lab 2.\n",
    "\n",
    "Collect a thousand temperature measurements. For each measurement, subtract 10,000 and convert the result to binary. Continue this process for each measurement. The result will be our random sequence.\n",
    "\n",
    "For example, if the temperature measurements are $10003, 10002, 10003$, and $10005$, after subtracting, we get $3, 2, 3, 5$.\n",
    "The number 3 is represented as 11 in binary, 2 as 10, and 5 as 101.\n",
    "Therefore, our final binary sequence is `111011101`."
   ]
  },
  {
   "attachments": {},
   "cell_type": "markdown",
   "id": "1ea2ed5d",
   "metadata": {},
   "source": [
    "### <span style=\"color:red\"> Exercise 1</span>\n",
    "\n",
    "Use Method A and print the first 10 binary digits of the sequence. \n",
    "\n",
    "<h3 style=\"background-color:lightblue\"> Write Answers for Exercise 1 Below </h3>"
   ]
  },
  {
   "cell_type": "code",
   "execution_count": 2,
   "id": "d04e83d1",
   "metadata": {},
   "outputs": [
    {
     "name": "stdout",
     "output_type": "stream",
     "text": [
      "First 10 binary digits: 1011001010\n"
     ]
    }
   ],
   "source": [
    "def adc_to_temperature(adc_value):\n",
    "    voltage = adc_value * (3.3 / 65535) \n",
    "    temperature = 27 - (voltage - 0.706) / 0.001721 \n",
    "    return int(temperature * 1000)\n",
    "\n",
    "binary_sequence = \"\"\n",
    "\n",
    "# Open and read the existing temp.txt file\n",
    "with open(\"temp.txt\", \"r\") as file:\n",
    "    for line in file:\n",
    "        adc_value = int(line.strip())\n",
    "        temp_milli = adc_to_temperature(adc_value) \n",
    "        adjusted_value = temp_milli - 10000 \n",
    "        binary_representation = bin(adjusted_value)[2:]\n",
    "\n",
    "        binary_sequence += binary_representation \n",
    "\n",
    "print(\"First 10 binary digits:\", binary_sequence[:10])"
   ]
  },
  {
   "attachments": {},
   "cell_type": "markdown",
   "id": "bd0cb4f7",
   "metadata": {},
   "source": [
    "### Method B\n",
    "\n",
    "#### Heart Rate Sensor\n",
    "\n",
    "You will collect data today using a **MAX30102 Pulse Oximeter and Heart Rate Sensor**, but you will only use the Heart Rate Sensor. The MAX30102 module consists of two different types of LEDs (Red and IR) and a photodetector.\n",
    "\n",
    "|<img src=\"https://raw.githubusercontent.com/TheDataScienceLabs/DSLab_Probability/main/book/labs/shared_files/heart_rate_estimation/MAX30102.png\" alt=\"MAX30102\" width=\"500\"/>|\n",
    "|:--:| \n",
    "| *MAX30102 Pulse Oximeter and Heart Rate Sensor* |\n",
    "\n",
    "The main idea is that the light emitted by each LED is directed to the skin, and the photodetector measures the amount of light reflected. This method of pulse detection through light is called Photoplethysmogram. The reflection of infrared light (IR) changes proportionally to the volume of blood in the artery and is synchronized with the cardiac cycle. During the heartbeat, the volume of blood is high, and after each heartbeat, it is low.\n",
    "\n",
    "\n",
    "\"During the systolic phase, the volume of blood in arteries is more; this is because during this phase heart contracts and pushes oxygen-rich blood to all the tissues and organs. The systolic phase causes more light is absorbed by the blood cells. Therefore the amount of light detected by the photode-tector during the systolic phase is low. During the diastolic phase, the blood has flown back into the heart. Therefore, during the diastole phase, the light detected by the photo-detector increases due to a decrease in the blood volume.\" [3]\n",
    "\n",
    "|<img src=\"https://raw.githubusercontent.com/TheDataScienceLabs/DSLab_Probability/main/book/labs/shared_files/heart_rate_estimation/PPG_generation_and_waveform_features.jpg\" alt=\"Principle of phototoplethysmogram generation and waveform features\" width=\"300\"/>| \n",
    "|:--:| \n",
    "| *Principle of phototoplethysmogram generation and waveform features* [2]|\n",
    "\n",
    "The figure above shows that the PPG waveform is obtained by inverting the intensity of the light detected with the photodetector after the light is reflected or transmitted through the human tissue [2]. In the case of our sensor, it would be reflected since the MAX30102 is of the reflective type."
   ]
  },
  {
   "attachments": {},
   "cell_type": "markdown",
   "id": "76462083",
   "metadata": {},
   "source": [
    "#### Wiring It Up\n",
    "\n",
    "**MAKE SURE PICO IS UNPLUGGED FROM COMPUTER BEFORE WIRING**\n",
    "\n",
    "To use the heart rate sensor, there are only four pins to connect with our microcontroller: power (VIN), ground (GND), and the two I2C pins (SCL and SDA).\n",
    "\n",
    "|<img src=\"https://raw.githubusercontent.com/TheDataScienceLabs/DSLab_Probability/main/book/labs/shared_files/heart_rate_estimation/MAX30102_pins.png\" alt=\"MAX30102_pins\" width=\"500\"/>|\n",
    "|:--:| \n",
    "| *MAX30102 pins* |\n",
    "\n",
    "Unplug your microcontroller from the computer and wire up the MAX30102 sensor according to the following instructions, inspecting the data sheet for the Pico:\n",
    "\n",
    "![pico_datasheet](https://raw.githubusercontent.com/TheDataScienceLabs/DSLab_Probability/main/book/labs/shared_files/heart_rate_estimation/Pico%20Datasheet.png)\n",
    "\n",
    "\n",
    "|MAX30102 | Module MAX30102|\n",
    "| ----------- | ----------- |\n",
    "|GND|GND|\n",
    "|SCL|I2C0 SCL or I2C1 SCL|\n",
    "|SDA|I2C0 SDA or I2C1 SDA|\n",
    "|VCC|3V3(OUT)|\n",
    "\n",
    "You will also need to connect a ceramic capacitor between the 3V3(OUT) pin and the GND pin you are using.\n",
    "\n",
    "Here are some images of the completed breadboard:\n",
    "\n",
    "![wiring_example](https://raw.githubusercontent.com/TheDataScienceLabs/DSLab_Probability/main/book/labs/shared_files/heart_rate_estimation/wiring_example.jpg)\n",
    "\n",
    "![capacitor_placement](https://raw.githubusercontent.com/TheDataScienceLabs/DSLab_Probability/main/book/labs/shared_files/heart_rate_estimation/capacitor_placement.jpg)\n",
    "\n",
    "**Note: Have your TA check over your wiring before continuing onward.**"
   ]
  },
  {
   "attachments": {},
   "cell_type": "markdown",
   "id": "fa5cc875",
   "metadata": {},
   "source": [
    "#### Loading firmware onto the microcontroller\n",
    "\n",
    "Plug the pico into your computer while holding the BOOTSEL button. Open up Thonny. [Follow the directions here](https://projects.raspberrypi.org/en/projects/getting-started-with-the-pico/3) to install the MicroPython firmware on the Pico. [The following page at that link](https://projects.raspberrypi.org/en/projects/getting-started-with-the-pico/4) has directions for testing to make sure it’s working.\n",
    "\n",
    "Use Thonny’s file manager to transfer [`main.py`](https://github.com/TheDataScienceLabs/DSLab_Probability/blob/main/book/labs/shared_files/heart_rate_estimation/main.py) file and the [`max30102`](https://github.com/TheDataScienceLabs/DSLab_Probability/tree/main/book/labs/shared_files/heart_rate_estimation/max30102) folder to the Pico. The `max30102` folder is a module that functions as the MAX30102 sensor driver ported to MicroPython, and the `main.py` file has the necessary to connect to the sensor and start reading your pulse when you put your finger on the sensor. \n",
    "- - -\n",
    "Note: You may have to modify the lines of the `main.py` file that set up the I2C bus according to whichever specific SCL and SDA pins you are using - remember to use the number labeled with GP on the diagram\n",
    "- - -"
   ]
  },
  {
   "attachments": {},
   "cell_type": "markdown",
   "id": "f900f977",
   "metadata": {},
   "source": [
    "### Acquiring data!\n",
    "\n",
    "**Read this carefully.** In Thonny, run `main.py`. You should see numbers printing on the terminal, and the LED on your Pico should be on. (If this is not the case, go back and check your wiring and ensure you have uploaded the required files onto the Pico).\n",
    "\n",
    "Next, while the readings are printing, open up the *\"Run\"* dropdown menu in the top left corner of Thonny and click on *\"Disconnect\"* at the bottom of the menu. This will allow the notebook to access the MAX30102 data from the Pico. Once the Pico is disconnected, you can run the two code cells below to create a live graph of your pulse."
   ]
  },
  {
   "attachments": {},
   "cell_type": "markdown",
   "id": "e20ade18",
   "metadata": {},
   "source": [
    "#### Using the sensor\n",
    "\n",
    "Download the [hbconnection.py](https://github.com/TheDataScienceLabs/DSLab_Probability/blob/main/book/labs/shared_files/heart_rate_estimation/hbconnection.py) file from the repository and add it to your lab folder to access its functions in the following cell.\n",
    "\n",
    "The following cell will show you the data taken by the sensor in real-time."
   ]
  },
  {
   "cell_type": "code",
   "execution_count": 21,
   "id": "f6d3a888",
   "metadata": {},
   "outputs": [
    {
     "data": {
      "application/vnd.jupyter.widget-view+json": {
       "model_id": "6556cd2c0b2b4647bb285bd5bee1db1e",
       "version_major": 2,
       "version_minor": 0
      },
      "image/png": "[encoded data removed]",
      "text/html": [
       "\n",
       "            <div style=\"display: inline-block;\">\n",
       "                <div class=\"jupyter-widgets widget-label\" style=\"text-align: center;\">\n",
       "                    Figure\n",
       "                </div>\n",
       "                <img src='data:image/png;base64,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' width=640.0/>\n",
       "            </div>\n",
       "        "
      ],
      "text/plain": [
       "Canvas(toolbar=Toolbar(toolitems=[('Home', 'Reset original view', 'home', 'home'), ('Back', 'Back to previous …"
      ]
     },
     "metadata": {},
     "output_type": "display_data"
    }
   ],
   "source": [
    "import numpy as np\n",
    "import matplotlib.pyplot as plt\n",
    "from hbconnection import acquire\n",
    "%matplotlib widget\n",
    "\n",
    "\n",
    "sampling_rate =  500 # you must fill this in! - Options: 50, 100, 200, 400, 800, 1000, 1600, 3200\n",
    "sampling_duration = 5 # seconds\n",
    "number_of_samples = sampling_rate * sampling_duration\n",
    "\n",
    "x = np.arange(number_of_samples)/sampling_rate\n",
    "y = np.full_like(x, np.nan)\n",
    "\n",
    "fig, ax = plt.subplots()\n",
    "line,  = plt.plot(x, y)\n",
    "plt.xlim(0, sampling_duration)\n",
    "plt.ylim(0_000, 50_000) # change this to fit heartbeat to graph\n",
    "plt.title('Real time data')\n",
    "plt.show()"
   ]
  },
  {
   "attachments": {},
   "cell_type": "markdown",
   "id": "be1e6077",
   "metadata": {},
   "source": [
    "Now, put your finger on the sensor, making sure it covers both the photodetector and the LEDs. **Do not apply too much or too little pressure**. Your finger should barely touch the sensor. **Once you have it situated correctly, run the following cell to acquire data.** This cell contains a while True loop, which will run indefinitely until we take action to stop it. **Once you have detected your pulse, click the *\"Stop\"* button** at the top of the page to exit the loop. The displayed data will be stored.\n",
    "\n",
    "- - -\n",
    "Note: You may need to adjust the bounds of the `plt.ylim()` function for a better representation of your data.\n",
    "- - -"
   ]
  },
  {
   "cell_type": "code",
   "execution_count": 22,
   "id": "1fc63fcc",
   "metadata": {},
   "outputs": [
    {
     "name": "stdout",
     "output_type": "stream",
     "text": [
      "done acquiring!\n"
     ]
    }
   ],
   "source": [
    "try:\n",
    "    while True:\n",
    "        acquire(sampling_rate, y, line, fig, number_of_samples)\n",
    "except KeyboardInterrupt:\n",
    "    print('done acquiring!')\n",
    "    np.savetxt('heartbeat_ini.txt', y)"
   ]
  },
  {
   "attachments": {},
   "cell_type": "markdown",
   "id": "02b7851e",
   "metadata": {},
   "source": [
    "Re-run the above cell as many times as necessary to obtain a good, clean measurement that shows a clear heartbeat pattern. You can modify the y-axis limits to improve the visibility of the signal behavior.\n",
    "\n",
    "Take a look at the file you just created, if needed. You should be able to open it right here in JupyterLab. It will display a long list of numbers.\n",
    "\n",
    "If you're having significant issues collecting heartbeat data, you may use the [heartbeat_backup.txt](https://github.com/TheDataScienceLabs/DSLab_Probability/blob/4d804f25560ee646260fd581fa7246bd8cc4af5d/book/labs/shared_files/heart_rate_estimation/heartbeat_backup.txt) file with the permission of your instructor."
   ]
  },
  {
   "attachments": {},
   "cell_type": "markdown",
   "id": "3601787a",
   "metadata": {},
   "source": [
    "### <span style=\"color:red\"> Exercise 2</span>\n",
    "\n",
    "To get to a final random sequence, use your measurements from `heartbeat_ini.txt` (or [`heartbeat_backup.txt`](https://github.com/TheDataScienceLabs/DSLab_Probability/blob/main/book/labs/shared_files/heart_rate_estimation/heartbeat_backup.txt) if you were having trouble with the data collection). For each measurement, subtract the minimum value and convert the result to binary. Continue for all the measurements like in Method A.\n",
    "\n",
    "\n",
    "After collecting a few seconds' worth of heartbeat measurements, apply Method B and print the first 10 binary digits of the resulting sequence.\n",
    "\n",
    "*Hint: look into the `np.loadtxt()` function*\n",
    "\n",
    "<h3 style=\"background-color:lightblue\"> Write Answers for Exercise 2 Below </h3>"
   ]
  },
  {
   "cell_type": "code",
   "execution_count": 26,
   "id": "bb0e0a9e",
   "metadata": {},
   "outputs": [
    {
     "name": "stdout",
     "output_type": "stream",
     "text": [
      "[29851. 29851. 29852. 29851. 29851. 29851. 29852. 29852. 29851. 29852.\n",
      " 29850. 29851. 29851. 29851. 29852. 29851. 29852. 29851. 29851. 29852.\n",
      " 29851. 29851. 29852. 29852. 29851. 29852. 29851. 29851. 29851. 29852.\n",
      " 29851. 29852. 29851. 29852. 29852. 29851. 29852. 29851. 29851. 29851.\n",
      " 29852. 29851. 29851. 29851. 29851. 29851. 29852. 29851. 29851. 29851.\n",
      " 29851. 29851. 29851. 29851. 29851. 29851. 29851. 29851. 29851. 29851.\n",
      " 29851. 29851. 29851. 29851. 29851. 29852. 29851. 29851. 29851. 29851.\n",
      " 29851. 29852. 29851. 29851. 29851. 29851. 29851. 29851. 29851. 29851.\n",
      " 29851. 29851. 29852. 29852. 29851. 29851. 29851. 29852. 29852. 29851.\n",
      " 29851. 29851. 29852. 29851. 29852. 29851. 29852. 29851. 29851. 29851.\n",
      " 29851. 29851. 29852. 29852. 29851. 29852. 29852. 29851. 29851. 29851.\n",
      " 29851. 29851. 29852. 29852. 29852. 29851. 29852. 29852. 29852. 29851.\n",
      " 29851. 29851. 29851. 29851. 29850. 29852. 29851. 29851. 29851. 29851.\n",
      " 29851. 29851. 29851. 29851. 29851. 29851. 29852. 29851. 29852. 29851.\n",
      " 29852. 29852. 29852. 29852. 29851. 29851. 29851. 29851. 29851. 29851.\n",
      " 29851. 29851. 29851. 29851. 29852. 29851. 29851. 29851. 29852. 29851.\n",
      " 29851. 29852. 29852. 29851. 29852. 29852. 29852. 29852. 29851. 29852.\n",
      " 29852. 29851. 29851. 29851. 29851. 29852. 29851. 29852. 29851. 29851.\n",
      " 29851. 29852. 29852. 29851. 29851. 29851. 29852. 29852. 29851. 29851.\n",
      " 29851. 29851. 29852. 29851. 29851. 29851. 29851. 29851. 29852. 29852.\n",
      " 29851. 29852. 29851. 29852. 29851. 29851. 29851. 29852. 29851. 29852.\n",
      " 29851. 29851. 29851. 29851. 29852. 29851. 29852. 29851. 29851. 29851.\n",
      " 29852. 29851. 29852. 29852. 29852. 29851. 29851. 29851. 29851. 29851.\n",
      " 29852. 29851. 29851. 29850. 29851. 29851. 29851. 29851. 29852. 29851.\n",
      " 29851. 29851. 29852. 29851. 29851. 29851. 29851. 29852. 29852. 29851.\n",
      " 29851. 29852. 29851. 29851. 29851. 29851. 29852. 29851. 29852. 29851.\n",
      " 29851. 29851. 29851. 29851. 29851. 29851. 29851. 29851. 29851. 29852.\n",
      " 29852. 29852. 29852. 29851. 29851. 29851. 29851. 29851. 29851. 29851.\n",
      " 29851. 29851. 29851. 29851. 29851. 29851. 29851. 29851. 29851. 29851.\n",
      " 29851. 29851. 29851. 29851. 29851. 29851. 29852. 29852. 29851. 29852.\n",
      " 29851. 29851. 29851. 29852. 29852. 29851. 29852. 29851. 29851. 29852.\n",
      " 29851. 29851. 29851. 29851. 29852. 29851. 29851. 29853. 29851. 29851.\n",
      " 29851. 29851. 29851. 29852. 29851. 29851. 29851. 29851. 29852. 29851.\n",
      " 29851. 29852. 29851. 29851. 29852. 29852. 29851. 29852. 29852. 29851.\n",
      " 29852. 29852. 29851. 29851. 29852. 29852. 29851. 29851. 29851. 29851.\n",
      " 29852. 29851. 29852. 29851. 29851. 29851. 29851. 29851. 29850. 29851.\n",
      " 29851. 29851. 29851. 29850. 29851. 29852. 29852. 29851. 29851. 29852.\n",
      " 29851. 29851. 29851. 29852. 29851. 29852. 29851. 29851. 29852. 29852.\n",
      " 29851. 29851. 29852. 29852. 29851. 29851. 29852. 29851. 29851. 29851.\n",
      " 29851. 29851. 29851. 29852. 29851. 29851. 29851. 29852. 29852. 29851.\n",
      " 29851. 29851. 29851. 29851. 29851. 29851. 29852. 29851. 29852. 29852.\n",
      " 29851. 29852. 29852. 29851. 29852. 29851. 29852. 29851. 29851. 29851.\n",
      " 29851. 29852. 29851. 29851. 29851. 29851. 29852. 29852. 29851. 29852.\n",
      " 29852. 29851. 29851. 29852. 29852. 29851. 29850. 29850. 29851. 29852.\n",
      " 29852. 29851. 29851. 29851. 29851. 29851. 29852. 29852. 29851. 29852.\n",
      " 29851. 29852. 29851. 29852. 29852. 29852. 29852. 29852. 29851. 29851.\n",
      " 29852. 29852. 29852. 29852. 29851. 29852. 29852. 29852. 29852. 29851.\n",
      " 29851. 29851. 29851. 29851. 29851. 29851. 29852. 29852. 29851. 29852.\n",
      " 29851. 29851. 29852. 29852. 29851. 29852. 29851. 29851. 29852. 29851.\n",
      " 29852. 29852. 29852. 29852. 29851. 29851. 29851. 29851. 29851. 29852.\n",
      " 29852. 29852. 29852. 29852. 29852. 29852. 29851. 29851. 29851. 29852.\n",
      " 29852. 29851. 29851. 29851. 29851. 29851. 29852. 29852. 29851. 29852.\n",
      " 29851. 29851. 29851. 29852. 29851. 29852. 29851. 29851. 29851. 29852.\n",
      " 29852. 29851. 29852. 29852. 29852. 29851. 29852. 29851. 29852. 29851.\n",
      " 29852. 29852. 29851. 29851. 29851. 29851. 29851. 29851. 29851. 29852.\n",
      " 29851. 29851. 29852. 29852. 29852. 29851. 29852. 29851. 29852. 29851.\n",
      " 29851. 29851. 29851. 29851. 29852. 29851. 29851. 29851. 29852. 29852.\n",
      " 29851. 29852. 29851. 29852. 29852. 29852. 29851. 29851. 29851. 29852.\n",
      " 29852. 29851. 29851. 29852. 29851. 29852. 29851. 29852. 29851. 29851.\n",
      " 29852. 29851. 29852. 29851. 29851. 29851. 29852. 29851. 29852. 29851.\n",
      " 29851. 29852. 29852. 29852. 29852. 29852. 29852. 29851. 29851. 29852.\n",
      " 29853. 29852. 29851. 29851. 29851. 29851. 29853. 29851. 29851. 29852.\n",
      " 29852. 29851. 29852. 29851. 29852. 29852. 29851. 29851. 29851. 29852.\n",
      " 29851. 29851. 29852. 29852. 29851. 29851. 29851. 29851. 29852. 29852.\n",
      " 29851. 29852. 29851. 29851. 29851. 29851. 29852. 29851. 29851. 29851.\n",
      " 29851. 29851. 29851. 29852. 29852. 29851. 29852. 29851. 29851. 29851.\n",
      " 29851. 29851. 29852. 29850. 29851. 29851. 29851. 29851. 29851. 29851.\n",
      " 29852. 29852. 29851. 29852. 29851. 29851. 29852. 29851. 29851. 29852.\n",
      " 29851. 29851. 29851. 29852. 29851. 29851. 29851. 29851. 29852. 29851.\n",
      " 29852. 29851. 29851. 29851. 29851. 29851. 29851. 29851. 29851. 29851.\n",
      " 29851. 29851. 29851. 29852. 29852. 29851. 29852. 29851. 29851. 29852.\n",
      " 29852. 29852. 29852. 29852. 29851. 29851. 29851. 29852. 29852. 29851.\n",
      " 29851. 29852. 29852. 29851. 29851. 29851. 29852. 29852. 29852. 29851.\n",
      " 29852. 29851. 29851. 29851. 29852. 29852. 29851. 29852. 29851. 29851.\n",
      " 29851. 29851. 29851. 29851. 29851. 29852. 29852. 29852. 29851. 29852.\n",
      " 29851. 29852. 29851. 29852. 29851. 29852. 29851. 29852. 29852. 29852.\n",
      " 29852. 29851. 29851. 29851. 29852. 29851. 29852. 29851. 29851. 29851.\n",
      " 29852. 29852. 29851. 29851. 29852. 29851. 29851. 29851. 29852. 29851.\n",
      " 29851. 29852. 29852. 29852. 29852. 29851. 29852. 29851. 29852. 29851.\n",
      " 29852. 29851. 29851. 29851. 29851. 29852. 29852. 29852. 29851. 29852.\n",
      " 29851. 29851. 29852. 29851. 29852. 29852. 29851. 29852. 29852. 29851.\n",
      " 29852. 29851. 29851. 29851. 29851. 29852. 29852. 29852. 29853. 29851.\n",
      " 29852. 29851. 29852. 29852. 29851. 29852. 29851. 29851. 29853. 29852.\n",
      " 29851. 29852. 29851. 29851. 29852. 29852. 29852. 29851. 29851. 29851.\n",
      " 29852. 29851. 29851. 29851. 29851. 29852. 29852. 29852. 29851. 29852.\n",
      " 29852. 29852. 29852. 29852. 29851. 29851. 29852. 29851. 29852. 29851.\n",
      " 29852. 29852. 29851. 29851. 29852. 29852. 29851. 29851. 29852. 29851.\n",
      " 29851. 29851. 29851. 29851. 29852. 29852. 29852. 29851. 29851. 29851.\n",
      " 29851. 29852. 29851. 29851. 29852. 29852. 29852. 29852. 29852. 29852.\n",
      " 29851. 29852. 29852. 29851. 29851. 29851. 29851. 29851. 29852. 29851.\n",
      " 29851. 29852. 29852. 29852. 29852. 29851. 29851. 29852. 29852. 29851.\n",
      " 29851. 29851. 29851. 29852. 29851. 29851. 29852. 29851. 29852. 29851.\n",
      " 29851. 29852. 29851. 29852. 29852. 29852. 29852. 29851. 29852. 29852.\n",
      " 29852. 29852. 29852. 29851. 29852. 29851. 29851. 29851. 29851. 29852.\n",
      " 29852. 29852. 29851. 29851. 29852. 29851. 29852. 29851. 29852. 29852.\n",
      " 29851. 29851. 29851. 29851. 29851. 29852. 29852. 29851. 29851. 29852.\n",
      " 29851. 29851. 29851. 29851. 29851. 29851. 29852. 29852. 29851. 29851.\n",
      " 29851. 29851. 29852. 29852. 29851. 29852. 29852. 29852. 29852. 29852.\n",
      " 29851. 29851. 29851. 29851. 29852. 29852. 29851.]\n",
      "Method A - First 10 binary digits: 1110111101\n",
      "Method B - First 10 binary digits: 0111100110\n"
     ]
    }
   ],
   "source": [
    "y = np.loadtxt('heartbeat_ini.txt')\n",
    "print(y)\n",
    "min_value = np.min(y)\n",
    "new_values = y - min_value\n",
    "binary_sequence = ''.join(bin(int(value))[2:] for value in new_values)\n",
    "\n",
    "print(\"Method A - First 10 binary digits:\", binary_sequence[:10])\n",
    "\n",
    "xor_sequence = [int(new_values[i]) ^ int(new_values[i+1]) for i in range(len(new_values)-1)]\n",
    "binary_xor_sequence = ''.join(bin(value)[2:] for value in xor_sequence)\n",
    "\n",
    "print(\"Method B - First 10 binary digits:\", binary_xor_sequence[:10])"
   ]
  },
  {
   "attachments": {},
   "cell_type": "markdown",
   "id": "a1f8ba1a",
   "metadata": {},
   "source": [
    "### Method C\n",
    "\n",
    "A camera, like any sensor, is susceptible to noise, and we can utilize this noise for a random number generator (RNG). Follow the wiring instructions from Lab 4 to connect the camera component to the Pico.\n",
    "\n",
    "Our cameras return a grayscale image with dimensions of $96\\times 96$. If we capture a noisy scene, we can flatten the image into a 1-dimensional sequence of length $96^2 = 9216$ and transform it into a binary sequence based on parity (whether the values are even or odd). You can choose how to transform the $96\\times 96$ image array into a 1-dimensional sequence. **For the noisy scene, we'll use the carpeted floor of the room**."
   ]
  },
  {
   "attachments": {},
   "cell_type": "markdown",
   "id": "b94a5a1c",
   "metadata": {},
   "source": [
    "### <span style=\"color:red\"> Exercise 3</span>\n",
    "\n",
    "Use Method C on an image you captured and print the first 10 binary digits of the sequence. "
   ]
  },
  {
   "cell_type": "code",
   "execution_count": 2,
   "id": "eaa682b1",
   "metadata": {},
   "outputs": [
    {
     "name": "stdout",
     "output_type": "stream",
     "text": [
      "Here are all the serial devices detected:\n",
      "/dev/cu.debug-console n/a\n",
      "/dev/cu.ShivasBoseFlexSoundLink n/a\n",
      "/dev/cu.Bluetooth-Incoming-Port n/a\n",
      "/dev/cu.usbmodem2101 USB VID:PID=2E8A:000A SER=E660C062136C6133 LOCATION=2-1\n",
      "\n",
      "selected port /dev/cu.usbmodem2101 as most likely to have a raspberry pi pico\n"
     ]
    }
   ],
   "source": [
    "import time\n",
    "import serial\n",
    "from serial.tools import list_ports\n",
    "%matplotlib widget\n",
    "\n",
    "PICO_HWID = \"2E8A\"\n",
    "\n",
    "\n",
    "def get_pico_port():\n",
    "    pico_ports = list(list_ports.grep(PICO_HWID))\n",
    "    if len(pico_ports) == 0:\n",
    "        raise Exception(\n",
    "            \"No Raspberry Pi Pico was detected. Check to make sure it is plugged in, and that no other programs are accessing it\"\n",
    "        )\n",
    "    return pico_ports[0].device\n",
    "\n",
    "\n",
    "print(\"Here are all the serial devices detected:\")\n",
    "for port in list_ports.comports():\n",
    "    print(port.device, port.hwid)\n",
    "\n",
    "port = get_pico_port()\n",
    "print(f\"\\nselected port {port} as most likely to have a raspberry pi pico\")"
   ]
  },
  {
   "cell_type": "code",
   "execution_count": 7,
   "id": "5c71a28c",
   "metadata": {},
   "outputs": [
    {
     "data": {
      "application/vnd.jupyter.widget-view+json": {
       "model_id": "00dd64b4e5e243be81fc4226d920c952",
       "version_major": 2,
       "version_minor": 0
      },
      "image/png": "[encoded data removed]",
      "text/html": [
       "\n",
       "            <div style=\"display: inline-block;\">\n",
       "                <div class=\"jupyter-widgets widget-label\" style=\"text-align: center;\">\n",
       "                    Figure 1\n",
       "                </div>\n",
       "                <img src='data:image/png;base64,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' width=640.0/>\n",
       "            </div>\n",
       "        "
      ],
      "text/plain": [
       "Canvas(toolbar=Toolbar(toolitems=[('Home', 'Reset original view', 'home', 'home'), ('Back', 'Back to previous …"
      ]
     },
     "metadata": {},
     "output_type": "display_data"
    }
   ],
   "source": [
    "buffer = bytearray(96 * 96)\n",
    "img = np.zeros(shape=(96, 96), dtype=\"uint8\")\n",
    "\n",
    "with serial.Serial(port, timeout=1) as s:\n",
    "    s.read_until(b\"\\x55\\xAA\")\n",
    "    s.readinto(buffer)\n",
    "    img.flat[::-1] = buffer\n",
    "\n",
    "plt.imshow(img, cmap=\"gray\")\n",
    "plt.show()"
   ]
  },
  {
   "attachments": {},
   "cell_type": "markdown",
   "id": "c82c5621",
   "metadata": {},
   "source": [
    "<h3 style=\"background-color:lightblue\"> Write Answers for Exercise 3 Below </h3>"
   ]
  },
  {
   "cell_type": "code",
   "execution_count": 8,
   "id": "25b7a2b0",
   "metadata": {},
   "outputs": [
    {
     "name": "stdout",
     "output_type": "stream",
     "text": [
      "Method C - First 10 binary digits: 0100110101\n"
     ]
    }
   ],
   "source": [
    "binary_sequence = ''.join('1' if pixel % 2 else '0' for pixel in img.flatten())\n",
    "print(\"Method C - First 10 binary digits:\", binary_sequence[:10])"
   ]
  },
  {
   "attachments": {},
   "cell_type": "markdown",
   "id": "b4c904f7",
   "metadata": {},
   "source": [
    "### Method D\n",
    "\n",
    "The Mersenne Twister is a pseudorandom number generator (PRNG) implemented in many products, including Python. It derives its name from a special type of prime number known as a Mersenne prime. Mersenne primes are prime numbers in the form of $2^p-1$, and as of December 2022, only 51 Mersenne primes have been discovered (with 48 verified). The intricate details of the Mersenne Twister algorithm go beyond the scope of this lab. Surprisingly, the algorithm itself doesn't involve complex arithmetic operations like multiplication or addition.\n",
    "\n",
    "Here's a quick example on how to use the `randint` function from Python's random module, which relies on the Mersenne Twister.\n"
   ]
  },
  {
   "cell_type": "code",
   "execution_count": 7,
   "id": "c82dd3d0",
   "metadata": {},
   "outputs": [
    {
     "name": "stdout",
     "output_type": "stream",
     "text": [
      "[1, 1, 0, 1, 1, 1, 1, 1, 0, 1]\n"
     ]
    }
   ],
   "source": [
    "from random import randint\n",
    "\n",
    "x = [randint(0,1) for i in range(10)]\n",
    "print(x)"
   ]
  },
  {
   "attachments": {},
   "cell_type": "markdown",
   "id": "92c62deb",
   "metadata": {},
   "source": [
    "## <span style=\"color:green;\"> Reflection </span>\n",
    "\n",
    "1. List whether each method we used was truly random or pseudorandom.<br>\n",
    "2. Which part of the lab did you find the most challenging? <br>\n",
    "3. Which part of the lab did was the easiest?\n",
    "\n",
    "<h3 style=\"background-color:lightblue\"> Write Answers for the Reflection Below </h3>"
   ]
  },
  {
   "attachments": {},
   "cell_type": "markdown",
   "id": "8aa09837",
   "metadata": {},
   "source": [
    "1. Method A is pseudorandom because it would have some noise that is predictable. Method B is pseudorandom because it could have some noise when measuring that is predictable. Method C is truly random because the noise here is not predictable or expected. \n",
    "2. The part of the lab that was the most challenging for me was method B, when I was trying to acquire data and connect through Thonny. I was having difficulties in this process. \n",
    "3. The easiest part of the lab was Method A and D because for A all we had to do was utilize data from lab 2 and just convert it into binary. For part D, all we had to do was just run the code and understand how randint works. "
   ]
  },
  {
   "attachments": {},
   "cell_type": "markdown",
   "id": "a734f9bf",
   "metadata": {},
   "source": [
    "## References\n",
    "1. Elgendi M. On the analysis of fingertip photoplethysmogram signals. Curr Cardiol Rev. 2012 Feb;8(1):14-25. doi: 10.2174/157340312801215782.\n",
    "\n",
    "2. Junyung Park, Hyeon Seok Seok, Sang-Su Kim1 and Hangsik Shin. Photoplethysmogram Analysis and Applications: An Integrative Review. Front. Physiol., 01 March 2022. Sec. Vascular Physiology. https://doi.org/10.3389/fphys.2021.808451. \n",
    "\n",
    "3. Pankaj, Kumar, A., Komaragiri, R. et al. A Review on Computation Methods Used in Photoplethysmography Signal Analysis for Heart Rate Estimation. Arch Computat Methods Eng 29, 921–940 (2022). https://doi.org/10.1007/s11831-021-09597-4"
   ]
  }
 ],
 "metadata": {
  "interpreter": {
   "hash": "5733b5ebf5ecec2b002a59c36710d44decb4334b28aff8074b4cca610e6649ad"
  },
  "kernelspec": {
   "display_name": "Python 3 (ipykernel)",
   "language": "python",
   "name": "python3"
  },
  "language_info": {
   "codemirror_mode": {
    "name": "ipython",
    "version": 3
   },
   "file_extension": ".py",
   "mimetype": "text/x-python",
   "name": "python",
   "nbconvert_exporter": "python",
   "pygments_lexer": "ipython3",
   "version": "3.11.9"
  }
 },
 "nbformat": 4,
 "nbformat_minor": 5
}
