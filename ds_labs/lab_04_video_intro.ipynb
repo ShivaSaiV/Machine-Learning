{
 "cells": [
  {
   "cell_type": "markdown",
   "metadata": {},
   "source": [
    "# Week 7: Acquiring and Manipulating Videos\n",
    "\n",
    "<font size=\"6\"> Laboratory 4 </font> <br>\n",
    "<font size=\"3\"> Last updated July 25, 2023 </font>"
   ]
  },
  {
   "cell_type": "markdown",
   "metadata": {
    "tags": []
   },
   "source": [
    "## <span style=\"color:orange;\"> 00. Content </span>\n",
    "\n",
    "<font size=\"5\"> Mathematics </font>\n",
    "- N/A\n",
    "    \n",
    "<font size=\"5\"> Programming Skills </font>\n",
    "- Using Software Documentation\n",
    "- OpenCV (cv2)\n",
    "    \n",
    "<font size=\"5\"> Embedded Systems </font>\n",
    "- Thonny and MicroPython\n",
    "\n",
    "## <span style=\"color:orange;\"> 0. Required Hardware </span>\n",
    "- Raspberry Pi Pico\n",
    "- Breadboard\n",
    "- USB connector\n",
    "- Camera (Arducam HM01B0)\n",
    "- 8 Wires"
   ]
  },
  {
   "cell_type": "markdown",
   "metadata": {},
   "source": [
    "<h3 style=\"background-color:lightblue\"> Write your name and email below: </h3>\n",
    "\n",
    "**Name:** Shiva Sai Vummaji\n",
    "\n",
    "**Email:** svummaji@purdue.edu"
   ]
  },
  {
   "cell_type": "code",
   "execution_count": 22,
   "metadata": {},
   "outputs": [
    {
     "name": "stdout",
     "output_type": "stream",
     "text": [
      "Requirement already satisfied: opencv-python in /Users/shivasaivummaji/miniconda3/envs/ptm_env/lib/python3.11/site-packages (4.11.0.86)\n",
      "Requirement already satisfied: numpy>=1.21.2 in /Users/shivasaivummaji/miniconda3/envs/ptm_env/lib/python3.11/site-packages (from opencv-python) (1.26.4)\n",
      "Note: you may need to restart the kernel to use updated packages.\n"
     ]
    }
   ],
   "source": [
    "pip install opencv-python"
   ]
  },
  {
   "cell_type": "code",
   "execution_count": 1,
   "metadata": {},
   "outputs": [],
   "source": [
    "import numpy as np\n",
    "import matplotlib.pyplot as plt\n",
    "import cv2"
   ]
  },
  {
   "cell_type": "markdown",
   "metadata": {},
   "source": [
    "## <span style=\"color:orange;\"> 1. Reading Videos with OpenCV </span>\n",
    "\n",
    "In this lab, we will be using a Python library called OpenCV (cv2). According to the [official documentation](https://docs.opencv.org/4.x/d1/dfb/intro.html), \"OpenCV is an open-source library that includes several hundreds of computer vision algorithms.\" Today, we will primarily utilize it to read and display modified video frames, and we will manually handle the \"vision\" aspect of computer vision with our own functions.\n",
    "\n",
    "Run the following code cell to read the video file. The `vid.read()` function returns two values: a Boolean variable `success`, which is `True` if the frame was read without any errors, and `frame`, which represents the captured image from the video. Since the camera hardware connected to your Pico can only provide grayscale images, we will convert each frame to grayscale using the `cv2.cvtColor(frame, cv2.COLOR_BGR2GRAY)` function. To improve computation speed, we have scaled down each frame by a factor of 4.\n",
    "\n",
    "Once you run the cell, a separate window will pop up (potentially appearing behind other windows on your screen), displaying the smaller, grayscale video. The separate window will automatically close after reading the entire video. However, you can override this behavior by pressing the `Q` key on your keyboard.\n",
    "\n",
    "To begin, download the video file we'll be using for this lab: [test_vid.mov](https://github.com/TheDataScienceLabs/DSLab_Probability/blob/main/book/labs/3_video/lab_04/additional_files/test_vid.mov). This video is sourced from YouTube and depicts a bouncing ball."
   ]
  },
  {
   "cell_type": "code",
   "execution_count": 24,
   "metadata": {},
   "outputs": [
    {
     "name": "stdout",
     "output_type": "stream",
     "text": [
      "<class 'numpy.ndarray'>\n",
      "<class 'numpy.ndarray'>\n",
      "<class 'numpy.ndarray'>\n",
      "<class 'numpy.ndarray'>\n",
      "<class 'numpy.ndarray'>\n",
      "<class 'numpy.ndarray'>\n",
      "<class 'numpy.ndarray'>\n",
      "<class 'numpy.ndarray'>\n",
      "<class 'numpy.ndarray'>\n",
      "<class 'numpy.ndarray'>\n",
      "<class 'numpy.ndarray'>\n",
      "<class 'numpy.ndarray'>\n",
      "<class 'numpy.ndarray'>\n",
      "<class 'numpy.ndarray'>\n",
      "<class 'numpy.ndarray'>\n",
      "<class 'numpy.ndarray'>\n",
      "<class 'numpy.ndarray'>\n",
      "<class 'numpy.ndarray'>\n",
      "<class 'numpy.ndarray'>\n",
      "<class 'numpy.ndarray'>\n",
      "<class 'numpy.ndarray'>\n",
      "<class 'numpy.ndarray'>\n",
      "<class 'numpy.ndarray'>\n",
      "<class 'numpy.ndarray'>\n",
      "<class 'numpy.ndarray'>\n",
      "<class 'numpy.ndarray'>\n",
      "<class 'numpy.ndarray'>\n",
      "<class 'numpy.ndarray'>\n",
      "<class 'numpy.ndarray'>\n",
      "<class 'numpy.ndarray'>\n",
      "<class 'numpy.ndarray'>\n",
      "<class 'numpy.ndarray'>\n",
      "<class 'numpy.ndarray'>\n",
      "<class 'numpy.ndarray'>\n",
      "<class 'numpy.ndarray'>\n",
      "<class 'numpy.ndarray'>\n",
      "<class 'numpy.ndarray'>\n",
      "<class 'numpy.ndarray'>\n",
      "<class 'numpy.ndarray'>\n",
      "<class 'numpy.ndarray'>\n",
      "<class 'numpy.ndarray'>\n",
      "<class 'numpy.ndarray'>\n",
      "<class 'numpy.ndarray'>\n",
      "<class 'numpy.ndarray'>\n",
      "<class 'numpy.ndarray'>\n",
      "<class 'numpy.ndarray'>\n",
      "<class 'numpy.ndarray'>\n",
      "<class 'numpy.ndarray'>\n",
      "<class 'numpy.ndarray'>\n",
      "<class 'numpy.ndarray'>\n",
      "<class 'numpy.ndarray'>\n",
      "<class 'numpy.ndarray'>\n",
      "<class 'numpy.ndarray'>\n",
      "<class 'numpy.ndarray'>\n",
      "<class 'numpy.ndarray'>\n",
      "<class 'numpy.ndarray'>\n",
      "<class 'numpy.ndarray'>\n",
      "<class 'numpy.ndarray'>\n",
      "<class 'numpy.ndarray'>\n",
      "<class 'numpy.ndarray'>\n",
      "<class 'numpy.ndarray'>\n",
      "<class 'numpy.ndarray'>\n",
      "<class 'numpy.ndarray'>\n",
      "<class 'numpy.ndarray'>\n",
      "<class 'numpy.ndarray'>\n",
      "<class 'numpy.ndarray'>\n",
      "<class 'numpy.ndarray'>\n",
      "<class 'numpy.ndarray'>\n",
      "<class 'numpy.ndarray'>\n",
      "<class 'numpy.ndarray'>\n",
      "<class 'numpy.ndarray'>\n",
      "<class 'numpy.ndarray'>\n",
      "<class 'numpy.ndarray'>\n",
      "<class 'numpy.ndarray'>\n",
      "<class 'numpy.ndarray'>\n",
      "<class 'numpy.ndarray'>\n",
      "<class 'numpy.ndarray'>\n",
      "<class 'numpy.ndarray'>\n",
      "<class 'numpy.ndarray'>\n",
      "<class 'numpy.ndarray'>\n",
      "<class 'numpy.ndarray'>\n",
      "<class 'numpy.ndarray'>\n",
      "<class 'numpy.ndarray'>\n",
      "<class 'numpy.ndarray'>\n",
      "<class 'numpy.ndarray'>\n",
      "<class 'numpy.ndarray'>\n",
      "<class 'numpy.ndarray'>\n",
      "<class 'numpy.ndarray'>\n",
      "<class 'numpy.ndarray'>\n",
      "<class 'numpy.ndarray'>\n",
      "<class 'numpy.ndarray'>\n",
      "<class 'numpy.ndarray'>\n",
      "<class 'numpy.ndarray'>\n",
      "<class 'numpy.ndarray'>\n",
      "<class 'numpy.ndarray'>\n",
      "<class 'numpy.ndarray'>\n",
      "<class 'numpy.ndarray'>\n",
      "<class 'numpy.ndarray'>\n",
      "<class 'numpy.ndarray'>\n",
      "<class 'numpy.ndarray'>\n",
      "<class 'numpy.ndarray'>\n",
      "<class 'numpy.ndarray'>\n",
      "<class 'numpy.ndarray'>\n",
      "<class 'numpy.ndarray'>\n",
      "<class 'numpy.ndarray'>\n",
      "<class 'numpy.ndarray'>\n",
      "<class 'numpy.ndarray'>\n",
      "<class 'numpy.ndarray'>\n",
      "<class 'numpy.ndarray'>\n",
      "<class 'numpy.ndarray'>\n",
      "<class 'numpy.ndarray'>\n",
      "<class 'numpy.ndarray'>\n",
      "<class 'numpy.ndarray'>\n",
      "<class 'numpy.ndarray'>\n",
      "<class 'numpy.ndarray'>\n",
      "<class 'numpy.ndarray'>\n",
      "<class 'numpy.ndarray'>\n",
      "<class 'numpy.ndarray'>\n",
      "<class 'numpy.ndarray'>\n",
      "<class 'numpy.ndarray'>\n",
      "<class 'numpy.ndarray'>\n",
      "<class 'numpy.ndarray'>\n",
      "<class 'numpy.ndarray'>\n",
      "<class 'numpy.ndarray'>\n",
      "<class 'numpy.ndarray'>\n",
      "<class 'numpy.ndarray'>\n",
      "<class 'numpy.ndarray'>\n",
      "<class 'numpy.ndarray'>\n",
      "<class 'numpy.ndarray'>\n",
      "<class 'numpy.ndarray'>\n",
      "<class 'numpy.ndarray'>\n",
      "<class 'numpy.ndarray'>\n",
      "<class 'numpy.ndarray'>\n",
      "<class 'numpy.ndarray'>\n",
      "<class 'numpy.ndarray'>\n",
      "<class 'numpy.ndarray'>\n",
      "<class 'numpy.ndarray'>\n",
      "<class 'numpy.ndarray'>\n",
      "<class 'numpy.ndarray'>\n",
      "<class 'numpy.ndarray'>\n",
      "<class 'numpy.ndarray'>\n",
      "<class 'numpy.ndarray'>\n",
      "<class 'numpy.ndarray'>\n",
      "<class 'numpy.ndarray'>\n",
      "<class 'numpy.ndarray'>\n",
      "<class 'numpy.ndarray'>\n",
      "<class 'numpy.ndarray'>\n",
      "<class 'numpy.ndarray'>\n",
      "<class 'numpy.ndarray'>\n",
      "<class 'numpy.ndarray'>\n",
      "<class 'numpy.ndarray'>\n",
      "<class 'numpy.ndarray'>\n",
      "<class 'numpy.ndarray'>\n",
      "<class 'numpy.ndarray'>\n",
      "<class 'numpy.ndarray'>\n",
      "<class 'numpy.ndarray'>\n",
      "<class 'numpy.ndarray'>\n",
      "<class 'numpy.ndarray'>\n",
      "<class 'numpy.ndarray'>\n",
      "<class 'numpy.ndarray'>\n",
      "<class 'numpy.ndarray'>\n",
      "<class 'numpy.ndarray'>\n",
      "<class 'numpy.ndarray'>\n",
      "<class 'numpy.ndarray'>\n",
      "<class 'numpy.ndarray'>\n",
      "<class 'numpy.ndarray'>\n",
      "<class 'numpy.ndarray'>\n",
      "<class 'numpy.ndarray'>\n",
      "<class 'numpy.ndarray'>\n",
      "<class 'numpy.ndarray'>\n",
      "<class 'numpy.ndarray'>\n",
      "<class 'numpy.ndarray'>\n",
      "<class 'numpy.ndarray'>\n",
      "<class 'numpy.ndarray'>\n",
      "<class 'numpy.ndarray'>\n",
      "<class 'numpy.ndarray'>\n",
      "<class 'numpy.ndarray'>\n",
      "<class 'numpy.ndarray'>\n",
      "<class 'numpy.ndarray'>\n",
      "<class 'numpy.ndarray'>\n",
      "<class 'numpy.ndarray'>\n",
      "<class 'numpy.ndarray'>\n",
      "<class 'numpy.ndarray'>\n",
      "<class 'numpy.ndarray'>\n",
      "<class 'numpy.ndarray'>\n",
      "<class 'numpy.ndarray'>\n",
      "<class 'numpy.ndarray'>\n",
      "<class 'numpy.ndarray'>\n",
      "<class 'numpy.ndarray'>\n",
      "<class 'numpy.ndarray'>\n",
      "<class 'numpy.ndarray'>\n",
      "<class 'numpy.ndarray'>\n",
      "<class 'numpy.ndarray'>\n",
      "<class 'numpy.ndarray'>\n",
      "<class 'numpy.ndarray'>\n",
      "<class 'numpy.ndarray'>\n",
      "<class 'numpy.ndarray'>\n",
      "<class 'numpy.ndarray'>\n",
      "<class 'numpy.ndarray'>\n",
      "<class 'numpy.ndarray'>\n",
      "<class 'numpy.ndarray'>\n",
      "<class 'numpy.ndarray'>\n",
      "<class 'numpy.ndarray'>\n",
      "<class 'numpy.ndarray'>\n",
      "<class 'numpy.ndarray'>\n",
      "<class 'numpy.ndarray'>\n",
      "<class 'numpy.ndarray'>\n",
      "<class 'numpy.ndarray'>\n",
      "<class 'numpy.ndarray'>\n",
      "<class 'numpy.ndarray'>\n",
      "<class 'numpy.ndarray'>\n",
      "<class 'numpy.ndarray'>\n",
      "<class 'numpy.ndarray'>\n",
      "<class 'numpy.ndarray'>\n",
      "<class 'numpy.ndarray'>\n",
      "<class 'numpy.ndarray'>\n",
      "<class 'numpy.ndarray'>\n",
      "<class 'numpy.ndarray'>\n",
      "<class 'numpy.ndarray'>\n",
      "<class 'numpy.ndarray'>\n",
      "<class 'numpy.ndarray'>\n",
      "<class 'numpy.ndarray'>\n",
      "<class 'numpy.ndarray'>\n",
      "<class 'numpy.ndarray'>\n",
      "<class 'numpy.ndarray'>\n",
      "<class 'numpy.ndarray'>\n",
      "<class 'numpy.ndarray'>\n",
      "<class 'numpy.ndarray'>\n",
      "<class 'numpy.ndarray'>\n",
      "<class 'numpy.ndarray'>\n",
      "<class 'numpy.ndarray'>\n",
      "<class 'numpy.ndarray'>\n",
      "<class 'numpy.ndarray'>\n",
      "<class 'numpy.ndarray'>\n",
      "<class 'numpy.ndarray'>\n",
      "<class 'numpy.ndarray'>\n",
      "<class 'numpy.ndarray'>\n",
      "<class 'numpy.ndarray'>\n",
      "<class 'numpy.ndarray'>\n",
      "<class 'numpy.ndarray'>\n",
      "<class 'numpy.ndarray'>\n",
      "<class 'numpy.ndarray'>\n",
      "<class 'numpy.ndarray'>\n",
      "<class 'numpy.ndarray'>\n",
      "<class 'numpy.ndarray'>\n",
      "<class 'numpy.ndarray'>\n",
      "<class 'numpy.ndarray'>\n",
      "<class 'numpy.ndarray'>\n",
      "<class 'numpy.ndarray'>\n",
      "<class 'numpy.ndarray'>\n",
      "<class 'numpy.ndarray'>\n",
      "<class 'numpy.ndarray'>\n",
      "<class 'numpy.ndarray'>\n",
      "<class 'numpy.ndarray'>\n",
      "<class 'numpy.ndarray'>\n",
      "<class 'numpy.ndarray'>\n",
      "<class 'numpy.ndarray'>\n",
      "<class 'numpy.ndarray'>\n",
      "<class 'numpy.ndarray'>\n",
      "<class 'numpy.ndarray'>\n",
      "<class 'numpy.ndarray'>\n",
      "<class 'numpy.ndarray'>\n",
      "<class 'numpy.ndarray'>\n",
      "<class 'numpy.ndarray'>\n",
      "<class 'numpy.ndarray'>\n",
      "<class 'numpy.ndarray'>\n",
      "<class 'numpy.ndarray'>\n",
      "<class 'numpy.ndarray'>\n",
      "<class 'numpy.ndarray'>\n",
      "<class 'numpy.ndarray'>\n",
      "<class 'numpy.ndarray'>\n",
      "<class 'numpy.ndarray'>\n",
      "<class 'numpy.ndarray'>\n",
      "<class 'numpy.ndarray'>\n",
      "<class 'numpy.ndarray'>\n",
      "<class 'numpy.ndarray'>\n",
      "<class 'numpy.ndarray'>\n",
      "<class 'numpy.ndarray'>\n",
      "<class 'numpy.ndarray'>\n",
      "<class 'numpy.ndarray'>\n",
      "<class 'numpy.ndarray'>\n",
      "<class 'numpy.ndarray'>\n",
      "<class 'numpy.ndarray'>\n",
      "<class 'numpy.ndarray'>\n",
      "<class 'numpy.ndarray'>\n",
      "<class 'numpy.ndarray'>\n",
      "<class 'numpy.ndarray'>\n",
      "<class 'numpy.ndarray'>\n",
      "<class 'numpy.ndarray'>\n",
      "<class 'numpy.ndarray'>\n",
      "<class 'numpy.ndarray'>\n",
      "<class 'numpy.ndarray'>\n",
      "<class 'numpy.ndarray'>\n",
      "<class 'numpy.ndarray'>\n",
      "<class 'numpy.ndarray'>\n",
      "<class 'numpy.ndarray'>\n",
      "<class 'numpy.ndarray'>\n",
      "<class 'numpy.ndarray'>\n",
      "<class 'numpy.ndarray'>\n",
      "<class 'numpy.ndarray'>\n",
      "<class 'numpy.ndarray'>\n",
      "<class 'numpy.ndarray'>\n",
      "<class 'numpy.ndarray'>\n",
      "<class 'numpy.ndarray'>\n",
      "<class 'numpy.ndarray'>\n",
      "<class 'numpy.ndarray'>\n",
      "<class 'numpy.ndarray'>\n",
      "<class 'numpy.ndarray'>\n",
      "<class 'numpy.ndarray'>\n",
      "<class 'numpy.ndarray'>\n",
      "<class 'numpy.ndarray'>\n",
      "<class 'numpy.ndarray'>\n",
      "<class 'numpy.ndarray'>\n",
      "<class 'numpy.ndarray'>\n",
      "<class 'numpy.ndarray'>\n",
      "<class 'numpy.ndarray'>\n",
      "<class 'numpy.ndarray'>\n",
      "<class 'numpy.ndarray'>\n",
      "<class 'numpy.ndarray'>\n",
      "<class 'numpy.ndarray'>\n",
      "<class 'numpy.ndarray'>\n",
      "<class 'numpy.ndarray'>\n",
      "<class 'numpy.ndarray'>\n",
      "<class 'numpy.ndarray'>\n",
      "<class 'numpy.ndarray'>\n",
      "<class 'numpy.ndarray'>\n",
      "<class 'numpy.ndarray'>\n",
      "<class 'numpy.ndarray'>\n",
      "<class 'numpy.ndarray'>\n",
      "<class 'numpy.ndarray'>\n",
      "<class 'numpy.ndarray'>\n",
      "<class 'numpy.ndarray'>\n",
      "<class 'numpy.ndarray'>\n",
      "<class 'numpy.ndarray'>\n",
      "<class 'numpy.ndarray'>\n",
      "<class 'numpy.ndarray'>\n",
      "<class 'numpy.ndarray'>\n",
      "<class 'numpy.ndarray'>\n",
      "<class 'numpy.ndarray'>\n",
      "<class 'numpy.ndarray'>\n",
      "<class 'numpy.ndarray'>\n",
      "<class 'numpy.ndarray'>\n",
      "<class 'numpy.ndarray'>\n",
      "<class 'numpy.ndarray'>\n",
      "<class 'numpy.ndarray'>\n",
      "<class 'numpy.ndarray'>\n",
      "<class 'numpy.ndarray'>\n",
      "<class 'numpy.ndarray'>\n",
      "<class 'numpy.ndarray'>\n",
      "<class 'numpy.ndarray'>\n",
      "<class 'numpy.ndarray'>\n",
      "<class 'numpy.ndarray'>\n",
      "<class 'numpy.ndarray'>\n",
      "<class 'numpy.ndarray'>\n",
      "<class 'numpy.ndarray'>\n",
      "<class 'numpy.ndarray'>\n",
      "Unable to read frame. Exiting ...\n"
     ]
    }
   ],
   "source": [
    "vid = cv2.VideoCapture('test_vid.mov')                  \n",
    "height = vid.get(cv2.CAP_PROP_FRAME_HEIGHT)\n",
    "width  = vid.get(cv2.CAP_PROP_FRAME_WIDTH) \n",
    "scale = 0.25\n",
    "new_size = (int(width*scale),int(height*scale))         # new frame dimensions, 4 times smaller than the original\n",
    "\n",
    "while vid.isOpened():                                    \n",
    "    success, frame = vid.read()                         # get the current frame (if there is one)\n",
    "    if not success:\n",
    "        print(\"Unable to read frame. Exiting ...\")\n",
    "        break\n",
    "    frame = cv2.cvtColor(frame, cv2.COLOR_BGR2GRAY)     # change the video from color to grayscale\n",
    "    frame = cv2.resize(frame,dsize=new_size) # resize the frame to the new dimensions\n",
    "    print(type(frame))           \n",
    "    \n",
    "    cv2.imshow('frame', frame)                          # display 'frame' in the popup window\n",
    "    if cv2.waitKey(25) == ord('q'):                     # press Q on keyboard to stop\n",
    "        break\n",
    "vid.release()\n",
    "cv2.destroyAllWindows()                                 # closes the popup when the video is over"
   ]
  },
  {
   "cell_type": "markdown",
   "metadata": {},
   "source": [
    "### <span style=\"color:red\"> Exercise 1 </span>\n",
    "\n",
    "What type of variable is `frame`? What kind of datatype is stored in `frame`?\n",
    "\n",
    "<h3 style=\"background-color:lightblue\"> Write Answers for Exercise 1 Below </h3>"
   ]
  },
  {
   "cell_type": "markdown",
   "metadata": {},
   "source": [
    "The variable Frame is  Numpy Array Data type. When I printed type(frame), I received numpy.ndarray output printed, so it was clear that it's a Numpy Array. The datatype that is stored in frame is ints, because they technically store pixel values, which is represented by ints. "
   ]
  },
  {
   "cell_type": "markdown",
   "metadata": {},
   "source": [
    "## <span style=\"color:orange;\"> 2. Modifying Videos </span>"
   ]
  },
  {
   "cell_type": "markdown",
   "metadata": {},
   "source": [
    "### <span style=\"color:red\"> Exercise 2 </span>\n",
    "\n",
    "Read the [documentation](https://docs.opencv.org/2.4/modules/highgui/doc/user_interface.html?highlight=waitkey) for the `waitKey` function.\n",
    "\n",
    "**Part 1**\n",
    "\n",
    "Play the video at a slower speed than its original playback speed.\n",
    "\n",
    "<h3 style=\"background-color:lightblue\"> Write Answers for Exercise 2 Part 1 Below </h3>"
   ]
  },
  {
   "cell_type": "code",
   "execution_count": 25,
   "metadata": {},
   "outputs": [],
   "source": [
    "vid = cv2.VideoCapture(\"test_vid.mov\")\n",
    "height = vid.get(cv2.CAP_PROP_FRAME_HEIGHT)\n",
    "width = vid.get(cv2.CAP_PROP_FRAME_WIDTH)\n",
    "scale = 0.25\n",
    "new_size = (int(width*scale), int(height*scale))\n",
    "\n",
    "while vid.isOpened():\n",
    "    success, frame = vid.read()\n",
    "    if not success:\n",
    "        print(\"Unable to read frame. Exiting ...\")\n",
    "        break\n",
    "    frame = cv2.cvtColor(frame, cv2.COLOR_BGR2GRAY)\n",
    "    frame = cv2.resize(frame, dsize = new_size)\n",
    "    cv2.imshow(\"frame\", frame)\n",
    "    if cv2.waitKey(100) == ord('q'):\n",
    "        break\n",
    "\n",
    "vid.release()\n",
    "cv2.destroyAllWindows()    \n",
    "    "
   ]
  },
  {
   "cell_type": "markdown",
   "metadata": {},
   "source": [
    "**Part 2** \n",
    "\n",
    "Play the video at a faster speed than its original playback speed.\n",
    "\n",
    "<h3 style=\"background-color:lightblue\"> Write Answers for Exercise 2 Part 2 Below </h3>"
   ]
  },
  {
   "cell_type": "code",
   "execution_count": 26,
   "metadata": {},
   "outputs": [
    {
     "name": "stdout",
     "output_type": "stream",
     "text": [
      "Unable to read frame. Exiting ...\n"
     ]
    }
   ],
   "source": [
    "vid = cv2.VideoCapture(\"test_vid.mov\")\n",
    "height = vid.get(cv2.CAP_PROP_FRAME_HEIGHT)\n",
    "width = vid.get(cv2.CAP_PROP_FRAME_WIDTH)\n",
    "scale = 0.25\n",
    "new_size = (int(width*scale), int(height*scale))\n",
    "\n",
    "while vid.isOpened():\n",
    "    success, frame = vid.read()\n",
    "    if not success:\n",
    "        print(\"Unable to read frame. Exiting ...\")\n",
    "        break\n",
    "    frame = cv2.cvtColor(frame, cv2.COLOR_BGR2GRAY)\n",
    "    frame = cv2.resize(frame, dsize = new_size)\n",
    "    cv2.imshow(\"frame\", frame)\n",
    "    if cv2.waitKey(5) == ord('q'):\n",
    "        break\n",
    "\n",
    "vid.release()\n",
    "cv2.destroyAllWindows()    "
   ]
  },
  {
   "cell_type": "markdown",
   "metadata": {},
   "source": [
    "### <span style=\"color:red\"> Exercise 3 </span>\n",
    "\n",
    "Play the video in reverse (backward). You don't need to refer to any additional documentation for this exercise.\n",
    "\n",
    "<h3 style=\"background-color:lightblue\"> Write Answers for Exercise 3 Below </h3>"
   ]
  },
  {
   "cell_type": "code",
   "execution_count": 27,
   "metadata": {},
   "outputs": [
    {
     "name": "stdout",
     "output_type": "stream",
     "text": [
      "Unable to read frame. Exiting ...\n"
     ]
    },
    {
     "ename": "KeyboardInterrupt",
     "evalue": "",
     "output_type": "error",
     "traceback": [
      "\u001b[0;31m---------------------------------------------------------------------------\u001b[0m",
      "\u001b[0;31mKeyboardInterrupt\u001b[0m                         Traceback (most recent call last)",
      "Cell \u001b[0;32mIn[27], line 24\u001b[0m\n\u001b[1;32m     22\u001b[0m \u001b[38;5;28;01mfor\u001b[39;00m i \u001b[38;5;129;01min\u001b[39;00m reverse_frames:\n\u001b[1;32m     23\u001b[0m     cv2\u001b[38;5;241m.\u001b[39mimshow(\u001b[38;5;124m\"\u001b[39m\u001b[38;5;124mReverse Frame\u001b[39m\u001b[38;5;124m\"\u001b[39m, i)\n\u001b[0;32m---> 24\u001b[0m     \u001b[38;5;28;01mif\u001b[39;00m \u001b[43mcv2\u001b[49m\u001b[38;5;241;43m.\u001b[39;49m\u001b[43mwaitKey\u001b[49m\u001b[43m(\u001b[49m\u001b[38;5;241;43m25\u001b[39;49m\u001b[43m)\u001b[49m \u001b[38;5;241m==\u001b[39m \u001b[38;5;28mord\u001b[39m(\u001b[38;5;124m'\u001b[39m\u001b[38;5;124mq\u001b[39m\u001b[38;5;124m'\u001b[39m):\n\u001b[1;32m     25\u001b[0m         \u001b[38;5;28;01mbreak\u001b[39;00m\n\u001b[1;32m     27\u001b[0m cv2\u001b[38;5;241m.\u001b[39mdestroyAllWindows()  \n",
      "\u001b[0;31mKeyboardInterrupt\u001b[0m: "
     ]
    }
   ],
   "source": [
    "vid = cv2.VideoCapture(\"test_vid.mov\")\n",
    "height = vid.get(cv2.CAP_PROP_FRAME_HEIGHT)\n",
    "width = vid.get(cv2.CAP_PROP_FRAME_WIDTH)\n",
    "scale = 0.25\n",
    "new_size = (int(width*scale), int(height*scale))\n",
    "\n",
    "collection_frames = []\n",
    "\n",
    "while vid.isOpened():\n",
    "    success, frame = vid.read()\n",
    "    if not success:\n",
    "        print(\"Unable to read frame. Exiting ...\")\n",
    "        break\n",
    "    frame = cv2.cvtColor(frame, cv2.COLOR_BGR2GRAY)\n",
    "    frame = cv2.resize(frame, dsize = new_size)\n",
    "\n",
    "    collection_frames.append(frame)\n",
    "\n",
    "vid.release()\n",
    "\n",
    "reverse_frames = reversed(collection_frames)\n",
    "for i in reverse_frames:\n",
    "    cv2.imshow(\"Reverse Frame\", i)\n",
    "    if cv2.waitKey(25) == ord('q'):\n",
    "        break\n",
    "\n",
    "cv2.destroyAllWindows()  "
   ]
  },
  {
   "cell_type": "markdown",
   "metadata": {},
   "source": [
    "### <span style=\"color:red\"> Exercise 4 </span>\n",
    "\n",
    "**Part 1**\n",
    "\n",
    "Flip the visuals of the video over the y-axis.\n",
    "\n",
    "*Hint: There are multiple ways to accomplish this, but you can explore the flip functions in NumPy or OpenCV.*\n",
    "\n",
    "<h3 style=\"background-color:lightblue\"> Write Answers for Exercise 4 Part 1 Below </h3>"
   ]
  },
  {
   "cell_type": "code",
   "execution_count": null,
   "metadata": {},
   "outputs": [],
   "source": [
    "vid = cv2.VideoCapture(\"test_vid.mov\")\n",
    "height = vid.get(cv2.CAP_PROP_FRAME_HEIGHT)\n",
    "width = vid.get(cv2.CAP_PROP_FRAME_WIDTH)\n",
    "scale = 0.25\n",
    "new_size = (int(width*scale), int(height*scale))\n",
    "\n",
    "while vid.isOpened():\n",
    "    success, frame = vid.read()\n",
    "    if not success:\n",
    "        print(\"Unable to read frame. Exiting ...\")\n",
    "        break\n",
    "    frame = cv2.cvtColor(frame, cv2.COLOR_BGR2GRAY)\n",
    "    frame = cv2.resize(frame, dsize = new_size)\n",
    "    frame = cv2.flip(frame, 1) # Flips over y-axis\n",
    "    cv2.imshow(\"frame\", frame)\n",
    "    if cv2.waitKey(25) == ord('q'):\n",
    "        break\n",
    "\n",
    "vid.release()\n",
    "cv2.destroyAllWindows()   "
   ]
  },
  {
   "cell_type": "markdown",
   "metadata": {},
   "source": [
    "**Part 2**\n",
    "\n",
    "Flip the visuals of the video over the x-axis.\n",
    "\n",
    "<h3 style=\"background-color:lightblue\"> Write Answers for Exercise 4 Part 2 Below </h3>"
   ]
  },
  {
   "cell_type": "code",
   "execution_count": null,
   "metadata": {},
   "outputs": [
    {
     "name": "stdout",
     "output_type": "stream",
     "text": [
      "Unable to read frame. Exiting ...\n"
     ]
    }
   ],
   "source": [
    "vid = cv2.VideoCapture(\"test_vid.mov\")\n",
    "height = vid.get(cv2.CAP_PROP_FRAME_HEIGHT)\n",
    "width = vid.get(cv2.CAP_PROP_FRAME_WIDTH)\n",
    "scale = 0.25\n",
    "new_size = (int(width*scale), int(height*scale))\n",
    "\n",
    "while vid.isOpened():\n",
    "    success, frame = vid.read()\n",
    "    if not success:\n",
    "        print(\"Unable to read frame. Exiting ...\")\n",
    "        break\n",
    "    frame = cv2.cvtColor(frame, cv2.COLOR_BGR2GRAY)\n",
    "    frame = cv2.resize(frame, dsize = new_size)\n",
    "    frame = cv2.flip(frame, 0) # Flips over x-axis\n",
    "    cv2.imshow(\"frame\", frame)\n",
    "    if cv2.waitKey(25) == ord('q'):\n",
    "        break\n",
    "\n",
    "vid.release()\n",
    "cv2.destroyAllWindows()   "
   ]
  },
  {
   "cell_type": "markdown",
   "metadata": {},
   "source": [
    "Being able to extract specific frames from a video is a useful skill. It can be used, for example, to trim the ends of the video or to remove a section in the middle."
   ]
  },
  {
   "cell_type": "markdown",
   "metadata": {},
   "source": [
    "### <span style=\"color:red\"> Exercise 5 </span>\n",
    "\n",
    "Play only the first 200 frames of the video. \n",
    "\n",
    "<h3 style=\"background-color:lightblue\"> Write Answers for Exercise 5 Below </h3>"
   ]
  },
  {
   "cell_type": "code",
   "execution_count": null,
   "metadata": {},
   "outputs": [],
   "source": [
    "vid = cv2.VideoCapture(\"test_vid.mov\")\n",
    "height = vid.get(cv2.CAP_PROP_FRAME_HEIGHT)\n",
    "width = vid.get(cv2.CAP_PROP_FRAME_WIDTH)\n",
    "scale = 0.25\n",
    "new_size = (int(width*scale), int(height*scale))\n",
    "\n",
    "numFrames = 0\n",
    "maxFrames = 200\n",
    "\n",
    "while vid.isOpened() and numFrames < maxFrames:\n",
    "    success, frame = vid.read()\n",
    "    if not success:\n",
    "        print(\"Unable to read frame. Exiting ...\")\n",
    "        break\n",
    "    frame = cv2.cvtColor(frame, cv2.COLOR_BGR2GRAY)\n",
    "    frame = cv2.resize(frame, dsize = new_size)\n",
    "    numFrames += 1\n",
    "    cv2.imshow(\"frame\", frame)\n",
    "    if cv2.waitKey(25) == ord('q'):\n",
    "        break\n",
    "\n",
    "vid.release()\n",
    "cv2.destroyAllWindows()   "
   ]
  },
  {
   "cell_type": "markdown",
   "metadata": {},
   "source": [
    "\n",
    "## <span style=\"color:orange;\"> 3. Connecting the Camera </span>\n",
    "\n",
    "This time, we will record our own videos using the Arducam HM01B0, which is a small camera that can be connected to the Pico. \n",
    "\n",
    "### Wiring Instructions\n",
    "\n",
    "Please ensure that your microcontroller is not connected to the computer while you are wiring components together. If you are unsure about your wiring, please consult the instructor. Use your jumper wires to establish the following connections:\n",
    "\n",
    "| HM01B0 | Pico |\n",
    "|--------|------|\n",
    "| VCC    | 3V3  |\n",
    "| SCL    | GP5  |\n",
    "| SDA    | GP4  |\n",
    "| VSYNC  | GP16 |\n",
    "| HREF   | GP15 |\n",
    "| PCLK   | GP14 |\n",
    "| DO     | GP6  |\n",
    "| GND    | GND  |\n",
    "\n",
    "Here is an image of the completed breadboard:\n",
    "\n",
    "![img](https://raw.githubusercontent.com/TheDataScienceLabs/DSLab_Probability/main/book/labs/shared_files/connecting_the_camera/HM01B0_and_pico.png)\n",
    "\n",
    "<!-- ![img](camera.jpg)\n",
    "\n",
    "*Wiring the Arducam HM01B0 camera* \n",
    "\n",
    "![img](camerawiring.jpg)\n",
    "\n",
    "*Connections to the PICO on breadboard* -->\n",
    "\n",
    "To find the names of the pins on the Raspberry Pi Pico, you can refer to its pinout diagram located [here](https://datasheets.raspberrypi.com/pico/Pico-R3-A4-Pinout.pdf) or in the Extra Materials section. The HM01B0, on the other hand, should have its pins labeled.\n",
    "\n",
    "After confirming that the wiring is correct, press and hold the BOOTSEL button on the Pico while plugging it in. Download the [arducam.uf2](https://github.com/TheDataScienceLabs/DSLab_Probability/blob/main/book/labs/shared_files/connecting_the_camera/arducam.uf2) file and copy it onto the Pico's drive using your computer's file manager (it should be listed as an external drive: \"RPI-RP2\") and not with Thonny. Once the file transfer is complete, the Pico will automatically disconnect, and its LED will start blinking rapidly. \n",
    "\n",
    "Once the Pico has been successfully connected, please execute the following cell to ensure that we have successfully detected the Pico."
   ]
  },
  {
   "cell_type": "code",
   "execution_count": 5,
   "metadata": {},
   "outputs": [
    {
     "name": "stdout",
     "output_type": "stream",
     "text": [
      "Here are all the serial devices detected:\n",
      "/dev/cu.debug-console n/a\n",
      "/dev/cu.ShivasBoseFlexSoundLink n/a\n",
      "/dev/cu.Bluetooth-Incoming-Port n/a\n",
      "/dev/cu.usbmodem2101 USB VID:PID=2E8A:000A SER=E660C06213445D33 LOCATION=2-1\n",
      "\n",
      "selected port /dev/cu.usbmodem2101 as most likely to have a raspberry pi pico\n"
     ]
    }
   ],
   "source": [
    "import time\n",
    "import serial\n",
    "from serial.tools import list_ports\n",
    "\n",
    "PICO_HWID = \"2E8A\"\n",
    "\n",
    "\n",
    "def get_pico_port():\n",
    "    pico_ports = list(list_ports.grep(PICO_HWID))\n",
    "    if len(pico_ports) == 0:\n",
    "        raise Exception(\n",
    "            \"No Raspberry Pi Pico was detected. Check to make sure it is plugged in, and that no other programs are accessing it\"\n",
    "        )\n",
    "    return pico_ports[0].device\n",
    "\n",
    "\n",
    "print(\"Here are all the serial devices detected:\")\n",
    "for port in list_ports.comports():\n",
    "    print(port.device, port.hwid)\n",
    "\n",
    "port = get_pico_port()\n",
    "print(f\"\\nselected port {port} as most likely to have a raspberry pi pico\")"
   ]
  },
  {
   "cell_type": "code",
   "execution_count": 29,
   "metadata": {},
   "outputs": [
    {
     "name": "stdout",
     "output_type": "stream",
     "text": [
      "Collecting pyserial\n",
      "  Downloading pyserial-3.5-py2.py3-none-any.whl.metadata (1.6 kB)\n",
      "Downloading pyserial-3.5-py2.py3-none-any.whl (90 kB)\n",
      "\u001b[2K   \u001b[90m━━━━━━━━━━━━━━━━━━━━━━━━━━━━━━━━━━━━━━━━\u001b[0m \u001b[32m90.6/90.6 kB\u001b[0m \u001b[31m3.7 MB/s\u001b[0m eta \u001b[36m0:00:00\u001b[0m\n",
      "\u001b[?25hInstalling collected packages: pyserial\n",
      "Successfully installed pyserial-3.5\n",
      "Note: you may need to restart the kernel to use updated packages.\n"
     ]
    }
   ],
   "source": [
    "pip install pyserial"
   ]
  },
  {
   "cell_type": "code",
   "execution_count": 35,
   "metadata": {},
   "outputs": [
    {
     "name": "stdout",
     "output_type": "stream",
     "text": [
      "Found existing installation: serial 0.0.97\n",
      "Uninstalling serial-0.0.97:\n",
      "  Would remove:\n",
      "    /Users/shivasaivummaji/miniconda3/envs/ptm_env/lib/python3.11/site-packages/serial-0.0.97.dist-info/*\n",
      "    /Users/shivasaivummaji/miniconda3/envs/ptm_env/lib/python3.11/site-packages/serial/*\n",
      "  Would not remove (might be manually added):\n",
      "    /Users/shivasaivummaji/miniconda3/envs/ptm_env/lib/python3.11/site-packages/serial/__main__.py\n",
      "    /Users/shivasaivummaji/miniconda3/envs/ptm_env/lib/python3.11/site-packages/serial/rfc2217.py\n",
      "    /Users/shivasaivummaji/miniconda3/envs/ptm_env/lib/python3.11/site-packages/serial/rs485.py\n",
      "    /Users/shivasaivummaji/miniconda3/envs/ptm_env/lib/python3.11/site-packages/serial/serialcli.py\n",
      "    /Users/shivasaivummaji/miniconda3/envs/ptm_env/lib/python3.11/site-packages/serial/serialjava.py\n",
      "    /Users/shivasaivummaji/miniconda3/envs/ptm_env/lib/python3.11/site-packages/serial/serialposix.py\n",
      "    /Users/shivasaivummaji/miniconda3/envs/ptm_env/lib/python3.11/site-packages/serial/serialutil.py\n",
      "    /Users/shivasaivummaji/miniconda3/envs/ptm_env/lib/python3.11/site-packages/serial/serialwin32.py\n",
      "    /Users/shivasaivummaji/miniconda3/envs/ptm_env/lib/python3.11/site-packages/serial/threaded/__init__.py\n",
      "    /Users/shivasaivummaji/miniconda3/envs/ptm_env/lib/python3.11/site-packages/serial/tools/__init__.py\n",
      "    /Users/shivasaivummaji/miniconda3/envs/ptm_env/lib/python3.11/site-packages/serial/tools/hexlify_codec.py\n",
      "    /Users/shivasaivummaji/miniconda3/envs/ptm_env/lib/python3.11/site-packages/serial/tools/list_ports.py\n",
      "    /Users/shivasaivummaji/miniconda3/envs/ptm_env/lib/python3.11/site-packages/serial/tools/list_ports_common.py\n",
      "    /Users/shivasaivummaji/miniconda3/envs/ptm_env/lib/python3.11/site-packages/serial/tools/list_ports_linux.py\n",
      "    /Users/shivasaivummaji/miniconda3/envs/ptm_env/lib/python3.11/site-packages/serial/tools/list_ports_osx.py\n",
      "    /Users/shivasaivummaji/miniconda3/envs/ptm_env/lib/python3.11/site-packages/serial/tools/list_ports_posix.py\n",
      "    /Users/shivasaivummaji/miniconda3/envs/ptm_env/lib/python3.11/site-packages/serial/tools/list_ports_windows.py\n",
      "    /Users/shivasaivummaji/miniconda3/envs/ptm_env/lib/python3.11/site-packages/serial/tools/miniterm.py\n",
      "    /Users/shivasaivummaji/miniconda3/envs/ptm_env/lib/python3.11/site-packages/serial/urlhandler/__init__.py\n",
      "    /Users/shivasaivummaji/miniconda3/envs/ptm_env/lib/python3.11/site-packages/serial/urlhandler/protocol_alt.py\n",
      "    /Users/shivasaivummaji/miniconda3/envs/ptm_env/lib/python3.11/site-packages/serial/urlhandler/protocol_cp2110.py\n",
      "    /Users/shivasaivummaji/miniconda3/envs/ptm_env/lib/python3.11/site-packages/serial/urlhandler/protocol_hwgrep.py\n",
      "    /Users/shivasaivummaji/miniconda3/envs/ptm_env/lib/python3.11/site-packages/serial/urlhandler/protocol_loop.py\n",
      "    /Users/shivasaivummaji/miniconda3/envs/ptm_env/lib/python3.11/site-packages/serial/urlhandler/protocol_rfc2217.py\n",
      "    /Users/shivasaivummaji/miniconda3/envs/ptm_env/lib/python3.11/site-packages/serial/urlhandler/protocol_socket.py\n",
      "    /Users/shivasaivummaji/miniconda3/envs/ptm_env/lib/python3.11/site-packages/serial/urlhandler/protocol_spy.py\n",
      "    /Users/shivasaivummaji/miniconda3/envs/ptm_env/lib/python3.11/site-packages/serial/win32.py\n",
      "Proceed (Y/n)? ^C\n",
      "\u001b[31mERROR: Operation cancelled by user\u001b[0m\u001b[31m\n",
      "\u001b[0mFound existing installation: pyserial 3.5\n",
      "Uninstalling pyserial-3.5:\n",
      "  Would remove:\n",
      "    /Users/shivasaivummaji/miniconda3/envs/ptm_env/bin/pyserial-miniterm\n",
      "    /Users/shivasaivummaji/miniconda3/envs/ptm_env/bin/pyserial-ports\n",
      "    /Users/shivasaivummaji/miniconda3/envs/ptm_env/lib/python3.11/site-packages/pyserial-3.5.dist-info/*\n",
      "    /Users/shivasaivummaji/miniconda3/envs/ptm_env/lib/python3.11/site-packages/serial/*\n",
      "  Would not remove (might be manually added):\n",
      "    /Users/shivasaivummaji/miniconda3/envs/ptm_env/lib/python3.11/site-packages/serial/abc/__init__.py\n",
      "    /Users/shivasaivummaji/miniconda3/envs/ptm_env/lib/python3.11/site-packages/serial/abc/model.py\n",
      "    /Users/shivasaivummaji/miniconda3/envs/ptm_env/lib/python3.11/site-packages/serial/abc/properties.py\n",
      "    /Users/shivasaivummaji/miniconda3/envs/ptm_env/lib/python3.11/site-packages/serial/errors.py\n",
      "    /Users/shivasaivummaji/miniconda3/envs/ptm_env/lib/python3.11/site-packages/serial/hooks.py\n",
      "    /Users/shivasaivummaji/miniconda3/envs/ptm_env/lib/python3.11/site-packages/serial/marshal.py\n",
      "    /Users/shivasaivummaji/miniconda3/envs/ptm_env/lib/python3.11/site-packages/serial/meta.py\n",
      "    /Users/shivasaivummaji/miniconda3/envs/ptm_env/lib/python3.11/site-packages/serial/model.py\n",
      "    /Users/shivasaivummaji/miniconda3/envs/ptm_env/lib/python3.11/site-packages/serial/properties.py\n",
      "    /Users/shivasaivummaji/miniconda3/envs/ptm_env/lib/python3.11/site-packages/serial/request.py\n",
      "    /Users/shivasaivummaji/miniconda3/envs/ptm_env/lib/python3.11/site-packages/serial/test.py\n",
      "    /Users/shivasaivummaji/miniconda3/envs/ptm_env/lib/python3.11/site-packages/serial/utilities/__init__.py\n",
      "    /Users/shivasaivummaji/miniconda3/envs/ptm_env/lib/python3.11/site-packages/serial/utilities/compatibility.py\n",
      "Proceed (Y/n)? "
     ]
    }
   ],
   "source": [
    "!pip uninstall serial\n",
    "!pip uninstall pyserial"
   ]
  },
  {
   "cell_type": "markdown",
   "metadata": {},
   "source": [
    "### Capturing a still image\n",
    "\n",
    "Now that the Pico and camera have been connected, execute the following cell to capture a still image."
   ]
  },
  {
   "cell_type": "code",
   "execution_count": 7,
   "metadata": {},
   "outputs": [
    {
     "data": {
      "image/png": "[encoded data removed]",
      "text/plain": [
       "<Figure size 640x480 with 1 Axes>"
      ]
     },
     "metadata": {},
     "output_type": "display_data"
    }
   ],
   "source": [
    "buffer = bytearray(96 * 96)\n",
    "img = np.zeros(shape=(96, 96), dtype=\"uint8\")\n",
    "\n",
    "with serial.Serial(port, timeout=1) as s:\n",
    "    s.read_until(b\"\\x55\\xAA\")\n",
    "    s.readinto(buffer)\n",
    "    img.flat[::-1] = buffer\n",
    "\n",
    "plt.imshow(img, cmap=\"gray\")\n",
    "plt.show()"
   ]
  },
  {
   "cell_type": "markdown",
   "metadata": {},
   "source": [
    "### <span style=\"color:red\"> Exercise 6 </span>\n",
    "\n",
    "Use the camera to capture an image of yourself (or a neighbor) with your hand up and another image of yourself (or your neighbor) with your hands down. You are welcome to use more than two frames if desired. Use these frames to create a video where you move your hands up and down, lasting a few seconds.\n",
    "\n",
    "<h3 style=\"background-color:lightblue\"> Write Answers for Exercise 6 Below </h3>"
   ]
  },
  {
   "cell_type": "code",
   "execution_count": 13,
   "metadata": {},
   "outputs": [
    {
     "data": {
      "image/png": "[encoded data removed]",
      "text/plain": [
       "<Figure size 640x480 with 1 Axes>"
      ]
     },
     "metadata": {},
     "output_type": "display_data"
    }
   ],
   "source": [
    "def captureImg():\n",
    "    buffer = bytearray(96 * 96)\n",
    "    img = np.zeros(shape=(96, 96), dtype=\"uint8\")\n",
    "\n",
    "    with serial.Serial(port, timeout=1) as s:\n",
    "        s.read_until(b\"\\x55\\xAA\")\n",
    "        s.readinto(buffer)\n",
    "        img.flat[::-1] = buffer\n",
    "\n",
    "    plt.imshow(img, cmap=\"gray\")\n",
    "    plt.show()\n",
    "\n",
    "captureImg()"
   ]
  },
  {
   "cell_type": "code",
   "execution_count": 22,
   "metadata": {},
   "outputs": [
    {
     "data": {
      "image/png": "[encoded data removed]",
      "text/plain": [
       "<Figure size 640x480 with 1 Axes>"
      ]
     },
     "metadata": {},
     "output_type": "display_data"
    }
   ],
   "source": [
    "captureImg()"
   ]
  },
  {
   "cell_type": "code",
   "execution_count": 30,
   "metadata": {},
   "outputs": [
    {
     "data": {
      "application/vnd.jupyter.widget-view+json": {
       "model_id": "08f158086a53482aa2a01cb6edb2c5cc",
       "version_major": 2,
       "version_minor": 0
      },
      "image/png": "[encoded data removed]",
      "text/html": [
       "\n",
       "            <div style=\"display: inline-block;\">\n",
       "                <div class=\"jupyter-widgets widget-label\" style=\"text-align: center;\">\n",
       "                    Figure 3\n",
       "                </div>\n",
       "                <img src='data:image/png;base64,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' width=640.0/>\n",
       "            </div>\n",
       "        "
      ],
      "text/plain": [
       "Canvas(toolbar=Toolbar(toolitems=[('Home', 'Reset original view', 'home', 'home'), ('Back', 'Back to previous …"
      ]
     },
     "metadata": {},
     "output_type": "display_data"
    }
   ],
   "source": [
    "captureImg()"
   ]
  },
  {
   "cell_type": "markdown",
   "metadata": {},
   "source": [
    "### Streaming video\n",
    "\n",
    "Now that we can capture a still image, the next goal is to stream a video. Both cells need to be executed before the video is streamed to your screen. After running the first cell, a still image should pop up. Once you run the second cell, it will start streaming real-time video from your camera."
   ]
  },
  {
   "cell_type": "code",
   "execution_count": 33,
   "metadata": {},
   "outputs": [
    {
     "data": {
      "application/vnd.jupyter.widget-view+json": {
       "model_id": "91ee91ce849443c5919781d41931dc54",
       "version_major": 2,
       "version_minor": 0
      },
      "image/png": "[encoded data removed]",
      "text/html": [
       "\n",
       "            <div style=\"display: inline-block;\">\n",
       "                <div class=\"jupyter-widgets widget-label\" style=\"text-align: center;\">\n",
       "                    Figure\n",
       "                </div>\n",
       "                <img src='data:image/png;base64,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' width=640.0/>\n",
       "            </div>\n",
       "        "
      ],
      "text/plain": [
       "Canvas(toolbar=Toolbar(toolitems=[('Home', 'Reset original view', 'home', 'home'), ('Back', 'Back to previous …"
      ]
     },
     "metadata": {},
     "output_type": "display_data"
    }
   ],
   "source": [
    "%matplotlib widget\n",
    "\n",
    "fig, ax = plt.subplots()\n",
    "render = ax.imshow(img, cmap='gray')\n",
    "plt.show(block=False)"
   ]
  },
  {
   "cell_type": "code",
   "execution_count": 34,
   "metadata": {},
   "outputs": [],
   "source": [
    "total_vid = []\n",
    "try:\n",
    "    with serial.Serial(port, timeout=1) as s:\n",
    "        while True:\n",
    "            s.read_until(b\"\\x55\\xAA\")\n",
    "            s.readinto(buffer)\n",
    "            img.flat[::-1] = buffer\n",
    "            render.set_data(img)\n",
    "            fig.canvas.draw()\n",
    "            total_vid.append(img.copy())\n",
    "except KeyboardInterrupt:\n",
    "    pass"
   ]
  },
  {
   "cell_type": "markdown",
   "metadata": {},
   "source": [
    "When you are finished, you will need to click the *\"Interrupt Kernel\"* button in Jupyter, which can be found at the top of the screen (the stop symbol) or under the Kernel menu."
   ]
  },
  {
   "cell_type": "markdown",
   "metadata": {},
   "source": [
    "## <span style=\"color:orange;\"> 4. Modifying Your Own Video </span>"
   ]
  },
  {
   "cell_type": "markdown",
   "metadata": {},
   "source": [
    "### <span style=\"color:red\"> Exercise 7 </span>\n",
    "\n",
    "Capture and save a list of frames using the camera.\n",
    "\n",
    "**Part 1:** Repeat Exercise 3 and Exercise 4 with your own video. \n",
    "\n",
    "<h3 style=\"background-color:lightblue\"> Write Answers for Exercise 7 Part 1 Below </h3>"
   ]
  },
  {
   "cell_type": "code",
   "execution_count": 41,
   "metadata": {},
   "outputs": [],
   "source": [
    "frame_size = (96, 96)\n",
    "vid = cv2.VideoWriter(\"output.mp4\", cv2.VideoWriter_fourcc(*\"mp4v\"), 5, frame_size, isColor=False)\n",
    "\n",
    "for i in total_vid:\n",
    "    vid.write(i)\n",
    "\n",
    "vid.release()"
   ]
  },
  {
   "cell_type": "code",
   "execution_count": 56,
   "metadata": {},
   "outputs": [],
   "source": [
    "# Reversed\n",
    "# vid = cv2.VideoCapture(\"output.mp4\")\n",
    "# height = vid.get(cv2.CAP_PROP_FRAME_HEIGHT)\n",
    "# width = vid.get(cv2.CAP_PROP_FRAME_WIDTH)\n",
    "# scale = 0.25\n",
    "# new_size = (int(width*scale), int(height*scale))\n",
    "\n",
    "# collection_frames = []\n",
    "\n",
    "# while vid.isOpened():\n",
    "#     success, frame = vid.read()\n",
    "#     if not success:\n",
    "#         print(\"Unable to read frame. Exiting ...\")\n",
    "#         break\n",
    "#     frame = cv2.cvtColor(frame, cv2.COLOR_BGR2GRAY)\n",
    "#     frame = cv2.resize(frame, dsize = new_size)\n",
    "\n",
    "#     collection_frames.append(frame)\n",
    "\n",
    "# vid.release()\n",
    "\n",
    "reverse_frames = reversed(total_vid)\n",
    "for i in reverse_frames:\n",
    "    cv2.imshow(\"Reverse Frame\", i)\n",
    "    if cv2.waitKey(25) == ord('q'):\n",
    "        break\n",
    "\n",
    "cv2.destroyAllWindows()  "
   ]
  },
  {
   "cell_type": "code",
   "execution_count": 59,
   "metadata": {},
   "outputs": [],
   "source": [
    "for i in total_vid:\n",
    "    i = cv2.flip(i, 1) # Flips over y-axis\n",
    "    cv2.imshow(\"frame\", i)\n",
    "    if cv2.waitKey(25) == ord('q'):\n",
    "        break\n",
    "\n",
    "cv2.destroyAllWindows()  "
   ]
  },
  {
   "cell_type": "code",
   "execution_count": 60,
   "metadata": {},
   "outputs": [],
   "source": [
    "for i in total_vid:\n",
    "    i = cv2.flip(i, 0) # Flips over x-axis\n",
    "    cv2.imshow(\"frame\", i)\n",
    "    if cv2.waitKey(25) == ord('q'):\n",
    "        break\n",
    "\n",
    "cv2.destroyAllWindows()  "
   ]
  },
  {
   "cell_type": "markdown",
   "metadata": {},
   "source": [
    "**Part 2:** Create an Instagram boomerang effect using a small portion or the entire video. Here's an example of what a [boomerang effect](https://raw.githubusercontent.com/TheDataScienceLabs/DSLab_Probability/main/book/labs/3_video/lab_04/additional_files/jump-over-puddle-boomerang.gif) looks like:\n",
    "\n",
    "<h3 style=\"background-color:lightblue\"> Write Answers for Exercise 7 Part 2 Below </h3>"
   ]
  },
  {
   "cell_type": "code",
   "execution_count": 63,
   "metadata": {},
   "outputs": [],
   "source": [
    "boomerang_vid = total_vid + list(reversed(total_vid))\n",
    "boom_vid = cv2.VideoWriter(\"boomerang.mp4\", cv2.VideoWriter_fourcc(*\"mp4v\"), 25, frame_size, isColor=False)\n",
    "for i in boomerang_vid:\n",
    "    boom_vid.write(i)\n",
    "\n",
    "boom_vid.release()\n"
   ]
  },
  {
   "cell_type": "markdown",
   "metadata": {},
   "source": [
    "**Part 3:** Choose an editing function we haven't mentioned yet (e.g., adding text, video filters, etc.) and give it a try on either the pre-recorded video or the ones you recorded using the camera.\n",
    "\n",
    "<h3 style=\"background-color:lightblue\"> Write Answers for Exercise 7 Part 3 Below </h3>"
   ]
  },
  {
   "cell_type": "code",
   "execution_count": 68,
   "metadata": {},
   "outputs": [],
   "source": [
    "def adjust_brightness(frame, brightness):\n",
    "    frame = np.clip(frame + brightness, 0, 255)\n",
    "    return frame.astype(np.uint8)\n",
    "\n",
    "adjusted_vid = cv2.VideoWriter(\"boomerang_brightened.mp4\", cv2.VideoWriter_fourcc(*\"mp4v\"), 25, frame_size, isColor=False)\n",
    "\n",
    "bright = 20\n",
    "\n",
    "for i in boomerang_vid:\n",
    "    b_frame = adjust_brightness(i, bright)\n",
    "    adjusted_vid.write(b_frame)\n",
    "\n",
    "adjusted_vid.release()"
   ]
  },
  {
   "cell_type": "markdown",
   "metadata": {},
   "source": [
    "## <span style=\"color:green\"> Reflection </span>\n",
    "\n",
    "1. What was your favorite exercise in this lab?\n",
    "2. Which part of the lab did you find the most challenging?\n",
    "3. Which part of the lab was the easiest?\n",
    "\n",
    "<h3 style=\"background-color:lightblue\"> Write Answers for the Reflection Below </h3>"
   ]
  },
  {
   "cell_type": "markdown",
   "metadata": {},
   "source": [
    "My favorite exercise in this lab was the first exercises (2 and 3) when we were learning the basics of openCV. \n",
    "The most challenging part of the lab was exercise 7, as I didn't really first know how to do boomerang effect and get the video in the first place.\n",
    "The easiest part of the lab was exercise 1, which was just finding datatypes, etc. "
   ]
  }
 ],
 "metadata": {
  "kernelspec": {
   "display_name": "Python 3 (ipykernel)",
   "language": "python",
   "name": "python3"
  },
  "language_info": {
   "codemirror_mode": {
    "name": "ipython",
    "version": 3
   },
   "file_extension": ".py",
   "mimetype": "text/x-python",
   "name": "python",
   "nbconvert_exporter": "python",
   "pygments_lexer": "ipython3",
   "version": "3.11.9"
  },
  "vscode": {
   "interpreter": {
    "hash": "5733b5ebf5ecec2b002a59c36710d44decb4334b28aff8074b4cca610e6649ad"
   }
  }
 },
 "nbformat": 4,
 "nbformat_minor": 4
}
